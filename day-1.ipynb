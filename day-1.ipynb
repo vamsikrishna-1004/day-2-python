{
 "cells": [
  {
   "cell_type": "code",
   "execution_count": 1,
   "id": "84fa0889",
   "metadata": {},
   "outputs": [
    {
     "data": {
      "text/plain": [
       "'VAMSI'"
      ]
     },
     "execution_count": 1,
     "metadata": {},
     "output_type": "execute_result"
    }
   ],
   "source": [
    "x=\"vamsi\"\n",
    "x.upper()"
   ]
  }
 ],
 "metadata": {
  "kernelspec": {
   "display_name": "Python 3",
   "language": "python",
   "name": "python3"
  },
  "language_info": {
   "codemirror_mode": {
    "name": "ipython",
    "version": 3
   },
   "file_extension": ".py",
   "mimetype": "text/x-python",
   "name": "python",
   "nbconvert_exporter": "python",
   "pygments_lexer": "ipython3",
   "version": "3.13.5"
  }
 },
 "nbformat": 4,
 "nbformat_minor": 5
}
